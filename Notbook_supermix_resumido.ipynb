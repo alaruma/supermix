{
 "cells": [
  {
   "cell_type": "code",
   "execution_count": null,
   "id": "1bc011bf",
   "metadata": {},
   "outputs": [],
   "source": [
    "import pandas as pd"
   ]
  },
  {
   "cell_type": "code",
   "execution_count": null,
   "id": "467cb42a",
   "metadata": {},
   "outputs": [],
   "source": [
    "import matplotlib.pyplot as plt"
   ]
  },
  {
   "cell_type": "code",
   "execution_count": null,
   "id": "bedd273d",
   "metadata": {},
   "outputs": [],
   "source": [
    "import seaborn as sns"
   ]
  },
  {
   "cell_type": "markdown",
   "id": "b6087c14",
   "metadata": {},
   "source": [
    "# 1. Perfil Socioeconômico dos Clientes da RMR"
   ]
  },
  {
   "cell_type": "code",
   "execution_count": null,
   "id": "b7bee013",
   "metadata": {},
   "outputs": [],
   "source": [
    "def perfil_socioeconomico_avancado(df_clientes, df_pagamentos):\n",
    "    # Diferenças de renda por sexo\n",
    "    sns.boxplot(x='sexo', y='renda', data=df_clientes)\n",
    "    plt.title('Distribuição da Renda por Sexo')\n",
    "    plt.show()"
   ]
  },
  {
   "cell_type": "code",
   "execution_count": null,
   "id": "1856e45d",
   "metadata": {},
   "outputs": [],
   "source": [
    "    # Diferenças de score por sexo\n",
    "    if 'score' in df_clientes.columns:\n",
    "        sns.boxplot(x='sexo', y='score', data=df_clientes)\n",
    "        plt.title('Score do Cliente por Sexo')\n",
    "        plt.show()"
   ]
  },
  {
   "cell_type": "code",
   "execution_count": null,
   "id": "324a006d",
   "metadata": {},
   "outputs": [],
   "source": [
    "    # Diferenças de escolaridade por sexo\n",
    "    escolaridade_sexo = df_clientes.groupby(['sexo', 'escolaridade']).size().unstack().fillna(0)\n",
    "    escolaridade_sexo.T.plot(kind='bar', stacked=True)\n",
    "    plt.title('Escolaridade por Sexo')\n",
    "    plt.ylabel('Quantidade')\n",
    "    plt.xlabel('Escolaridade')\n",
    "    plt.xticks(rotation=45)\n",
    "    plt.show()"
   ]
  },
  {
   "cell_type": "code",
   "execution_count": null,
   "id": "ce9d0dd6",
   "metadata": {},
   "outputs": [],
   "source": [
    "    # Situação de pagamento por sexo\n",
    "    if 'situacao_pagamento' in df_pagamentos.columns and 'sexo' in df_clientes.columns:\n",
    "        pagamentos = pd.merge(df_pagamentos, df_clientes[['cliente_id', 'sexo']], on='cliente_id')\n",
    "        situacao_sexo = pagamentos.groupby(['sexo', 'situacao_pagamento']).size().unstack().fillna(0)\n",
    "        situacao_sexo.T.plot(kind='bar', stacked=True)\n",
    "        plt.title('Situação de Pagamento por Sexo')\n",
    "        plt.ylabel('Quantidade')\n",
    "        plt.xlabel('Situação de Pagamento')\n",
    "        plt.xticks(rotation=45)\n",
    "        plt.show()"
   ]
  },
  {
   "cell_type": "code",
   "execution_count": null,
   "id": "ba476736",
   "metadata": {},
   "outputs": [],
   "source": [
    "        # Tempo de atraso por sexo\n",
    "        if 'atraso_em_dias' in pagamentos.columns:\n",
    "            sns.boxplot(x='sexo', y='atraso_em_dias', data=pagamentos)\n",
    "            plt.title('Tempo de Atraso (em dias) por Sexo')\n",
    "            plt.show()"
   ]
  },
  {
   "cell_type": "markdown",
   "id": "317e64f7",
   "metadata": {},
   "source": [
    "# 2. Lucros e Comportamento de Consumo"
   ]
  },
  {
   "cell_type": "code",
   "execution_count": null,
   "id": "3d430cfc",
   "metadata": {},
   "outputs": [],
   "source": [
    "def analise_lucros_comportamento(df_compras):\n",
    "    # Lucro total\n",
    "    if 'lucro' in df_compras.columns:\n",
    "        print(\"Lucro total do Supermix: R$ {:.2f}\".format(df_compras['lucro'].sum()))\n",
    "        # Lucro por categoria\n",
    "        lucro_categoria = df_compras.groupby('categoria')['lucro'].sum().sort_values(ascending=False)\n",
    "        lucro_categoria.plot(kind='bar')\n",
    "        plt.title('Lucro por Categoria')\n",
    "        plt.ylabel('Lucro Total (R$)')\n",
    "        plt.xlabel('Categoria')\n",
    "        plt.xticks(rotation=45)\n",
    "        plt.show()"
   ]
  },
  {
   "cell_type": "code",
   "execution_count": null,
   "id": "9d0e75e0",
   "metadata": {},
   "outputs": [],
   "source": [
    "        # Lucro por mês\n",
    "        df_compras['data'] = pd.to_datetime(df_compras['data'])\n",
    "        df_compras['mes'] = df_compras['data'].dt.month\n",
    "        lucro_mes = df_compras.groupby('mes')['lucro'].sum()\n",
    "        lucro_mes.plot(kind='bar')\n",
    "        plt.title('Lucro Total por Mês')\n",
    "        plt.ylabel('Lucro Total (R$)')\n",
    "        plt.xlabel('Mês')\n",
    "        plt.show()"
   ]
  },
  {
   "cell_type": "code",
   "execution_count": null,
   "id": "ef1cc61c",
   "metadata": {},
   "outputs": [],
   "source": [
    "    # Relação entre lucro e ticket médio/comportamento de compra\n",
    "    ticket_medio = df_compras['valor'].mean()\n",
    "    print(f'Ticket médio: R$ {ticket_medio:.2f}')"
   ]
  },
  {
   "cell_type": "code",
   "execution_count": null,
   "id": "f21914f6",
   "metadata": {},
   "outputs": [],
   "source": [
    "    # Ticket médio por categoria\n",
    "    ticket_categoria = df_compras.groupby('categoria')['valor'].mean().sort_values()\n",
    "    ticket_categoria.plot(kind='bar')\n",
    "    plt.title('Ticket Médio por Categoria')\n",
    "    plt.ylabel('Ticket Médio (R$)')\n",
    "    plt.xlabel('Categoria')\n",
    "    plt.xticks(rotation=45)\n",
    "    plt.show()"
   ]
  },
  {
   "cell_type": "code",
   "execution_count": null,
   "id": "a3c29bbb",
   "metadata": {},
   "outputs": [],
   "source": [
    "    # Sazonalidade das compras\n",
    "    compras_por_mes = df_compras.groupby('mes')['valor'].sum()\n",
    "    compras_por_mes.plot(kind='bar')\n",
    "    plt.title('Sazonalidade das Compras (Valor Total por Mês)')\n",
    "    plt.ylabel('Valor Total (R$)')\n",
    "    plt.xlabel('Mês')\n",
    "    plt.show()"
   ]
  },
  {
   "cell_type": "code",
   "execution_count": null,
   "id": "542ea1fb",
   "metadata": {},
   "outputs": [],
   "source": [
    "    # Clientes recorrentes: comportamento de compra\n",
    "    if 'cliente_id' in df_compras.columns:\n",
    "        compras_por_cliente = df_compras['cliente_id'].value_counts()\n",
    "        recorrentes = (compras_por_cliente > 1).mean()\n",
    "        print(f\"Proporção de clientes recorrentes: {recorrentes:.2%}\")"
   ]
  },
  {
   "cell_type": "code",
   "execution_count": null,
   "id": "c465ea26",
   "metadata": {},
   "outputs": [],
   "source": [
    "# --- Exemplo de uso ---\n",
    "if __name__ == \"__main__\":\n",
    "    # df_clientes = pd.read_csv('cadastro_clientes.csv')\n",
    "    # df_pagamentos = pd.read_csv('pagamentos.csv')\n",
    "    # df_compras = pd.read_csv('compras_clientes.csv')\n",
    "    # perfil_socioeconomico_avancado(df_clientes, df_pagamentos)\n",
    "    # analise_lucros_comportamento(df_compras)\n",
    "    pass"
   ]
  }
 ],
 "metadata": {
  "language_info": {
   "name": "python"
  }
 },
 "nbformat": 4,
 "nbformat_minor": 5
}
